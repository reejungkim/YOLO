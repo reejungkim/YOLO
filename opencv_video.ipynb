{
 "cells": [
  {
   "cell_type": "code",
   "execution_count": 5,
   "metadata": {},
   "outputs": [],
   "source": [
    "import cv2\n",
    "\n",
    "capture = cv2.VideoCapture(\"/Users/reejungkim/Documents/Git/ImgProcessor/YOLO/Street.mp4\")\n",
    "\n",
    "while cv2.waitKey(33) < 0:\n",
    "    if capture.get(cv2.CAP_PROP_POS_FRAMES) == capture.get(cv2.CAP_PROP_FRAME_COUNT):\n",
    "        capture.set(cv2.CAP_PROP_POS_FRAMES, 0)\n",
    "\n",
    "    ret, frame = capture.read()\n",
    "    cv2.imshow(\"VideoFrame\", frame)\n",
    "\n",
    "capture.release()\n",
    "\n",
    "cv2.waitKey(0)\n",
    "cv2.destroyAllWindows()\n",
    "for i in range(5):\n",
    "    cv2.waitKey(1)"
   ]
  },
  {
   "cell_type": "code",
   "execution_count": 6,
   "metadata": {},
   "outputs": [],
   "source": [
    "cv2.waitKey(0)\n",
    "cv2.destroyAllWindows()\n",
    "for i in range(5):\n",
    "    cv2.waitKey(1)"
   ]
  },
  {
   "cell_type": "code",
   "execution_count": null,
   "metadata": {},
   "outputs": [],
   "source": [
    "import cv2\n",
    " \n",
    "########### 카메라 대신 youtube영상으로 대체 ############\n",
    "import pafy\n",
    "url = 'https://www.youtube.com/watch?v=u_Q7Dkl7AIk'\n",
    "video = pafy.new(url)\n",
    "print('title = ', video.title)\n",
    "print('video.rating = ', video.rating)\n",
    "print('video.duration = ', video.duration)\n",
    " \n",
    "best = video.getbest(preftype='mp4')     # 'webm','3gp'\n",
    "print('best.resolution', best.resolution)\n",
    " \n",
    "cap=cv2.VideoCapture(best.url)\n",
    "#########################################################\n",
    " \n",
    "#cap = cv2.VideoCapture(0) # 0번 카메라\n",
    " \n",
    "# frame 사이즈\n",
    "frame_size = (int(cap.get(cv2.CAP_PROP_FRAME_WIDTH)),\n",
    "              int(cap.get(cv2.CAP_PROP_FRAME_HEIGHT)))\n",
    "print('frame_size =', frame_size)\n",
    " \n",
    "# 코덱 설정하기\n",
    "#fourcc = cv2.VideoWriter_fourcc(*'DIVX')  # ('D', 'I', 'V', 'X')\n",
    "fourcc = cv2.VideoWriter_fourcc(*'XVID')\n",
    " \n",
    "# 이미지 저장하기 위한 영상 파일 생성\n",
    "out1 = cv2.VideoWriter('./data/record0.mp4',fourcc, 20.0, frame_size)\n",
    "out2 = cv2.VideoWriter('./data/record1.mp4',fourcc, 20.0, frame_size,isColor=False)\n",
    " \n",
    "while True:\n",
    "    retval, frame = cap.read()\t# 영상을 한 frame씩 읽어오기\n",
    "    if not retval:\n",
    "        break   \n",
    "        \n",
    "    out1.write(frame)\t# 영상 파일에 저장   \n",
    "    \n",
    "    # 이미지 컬러 변환\n",
    "    gray = cv2.cvtColor(frame, cv2.COLOR_BGR2GRAY)\n",
    "    \n",
    "    out2.write(gray)\t# 영상 파일에 저장        \n",
    "    \n",
    "    cv2.imshow('frame',frame)\t# 이미지 보여주기\n",
    "    cv2.imshow('gray',gray)      \n",
    "    \n",
    "    key = cv2.waitKey(25)\n",
    "    if key == 27:\n",
    "        break\n",
    "        \n",
    "cap.release()\t# 객체 해제\n",
    "out1.release()\n",
    "out2.release()\n",
    "cv2.destroyAllWindows()"
   ]
  }
 ],
 "metadata": {
  "interpreter": {
   "hash": "e47b1a34c05c1e3b83a62d7885c9d1b5ef8a0522d3be0182d0a008ec409b2b3d"
  },
  "kernelspec": {
   "display_name": "Python 3.7.13 ('myenv')",
   "language": "python",
   "name": "python3"
  },
  "language_info": {
   "codemirror_mode": {
    "name": "ipython",
    "version": 3
   },
   "file_extension": ".py",
   "mimetype": "text/x-python",
   "name": "python",
   "nbconvert_exporter": "python",
   "pygments_lexer": "ipython3",
   "version": "3.7.13"
  },
  "orig_nbformat": 4
 },
 "nbformat": 4,
 "nbformat_minor": 2
}
