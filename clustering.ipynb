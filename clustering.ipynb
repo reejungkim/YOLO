{
 "cells": [
  {
   "cell_type": "code",
   "execution_count": 1,
   "metadata": {},
   "outputs": [
    {
     "name": "stderr",
     "output_type": "stream",
     "text": [
      "Using TensorFlow backend.\n",
      "/opt/anaconda3/envs/myenv/lib/python3.7/site-packages/tensorflow/python/framework/dtypes.py:516: FutureWarning: Passing (type, 1) or '1type' as a synonym of type is deprecated; in a future version of numpy, it will be understood as (type, (1,)) / '(1,)type'.\n",
      "  _np_qint8 = np.dtype([(\"qint8\", np.int8, 1)])\n",
      "/opt/anaconda3/envs/myenv/lib/python3.7/site-packages/tensorflow/python/framework/dtypes.py:517: FutureWarning: Passing (type, 1) or '1type' as a synonym of type is deprecated; in a future version of numpy, it will be understood as (type, (1,)) / '(1,)type'.\n",
      "  _np_quint8 = np.dtype([(\"quint8\", np.uint8, 1)])\n",
      "/opt/anaconda3/envs/myenv/lib/python3.7/site-packages/tensorflow/python/framework/dtypes.py:518: FutureWarning: Passing (type, 1) or '1type' as a synonym of type is deprecated; in a future version of numpy, it will be understood as (type, (1,)) / '(1,)type'.\n",
      "  _np_qint16 = np.dtype([(\"qint16\", np.int16, 1)])\n",
      "/opt/anaconda3/envs/myenv/lib/python3.7/site-packages/tensorflow/python/framework/dtypes.py:519: FutureWarning: Passing (type, 1) or '1type' as a synonym of type is deprecated; in a future version of numpy, it will be understood as (type, (1,)) / '(1,)type'.\n",
      "  _np_quint16 = np.dtype([(\"quint16\", np.uint16, 1)])\n",
      "/opt/anaconda3/envs/myenv/lib/python3.7/site-packages/tensorflow/python/framework/dtypes.py:520: FutureWarning: Passing (type, 1) or '1type' as a synonym of type is deprecated; in a future version of numpy, it will be understood as (type, (1,)) / '(1,)type'.\n",
      "  _np_qint32 = np.dtype([(\"qint32\", np.int32, 1)])\n",
      "/opt/anaconda3/envs/myenv/lib/python3.7/site-packages/tensorflow/python/framework/dtypes.py:525: FutureWarning: Passing (type, 1) or '1type' as a synonym of type is deprecated; in a future version of numpy, it will be understood as (type, (1,)) / '(1,)type'.\n",
      "  np_resource = np.dtype([(\"resource\", np.ubyte, 1)])\n",
      "/opt/anaconda3/envs/myenv/lib/python3.7/site-packages/tensorboard/compat/tensorflow_stub/dtypes.py:541: FutureWarning: Passing (type, 1) or '1type' as a synonym of type is deprecated; in a future version of numpy, it will be understood as (type, (1,)) / '(1,)type'.\n",
      "  _np_qint8 = np.dtype([(\"qint8\", np.int8, 1)])\n",
      "/opt/anaconda3/envs/myenv/lib/python3.7/site-packages/tensorboard/compat/tensorflow_stub/dtypes.py:542: FutureWarning: Passing (type, 1) or '1type' as a synonym of type is deprecated; in a future version of numpy, it will be understood as (type, (1,)) / '(1,)type'.\n",
      "  _np_quint8 = np.dtype([(\"quint8\", np.uint8, 1)])\n",
      "/opt/anaconda3/envs/myenv/lib/python3.7/site-packages/tensorboard/compat/tensorflow_stub/dtypes.py:543: FutureWarning: Passing (type, 1) or '1type' as a synonym of type is deprecated; in a future version of numpy, it will be understood as (type, (1,)) / '(1,)type'.\n",
      "  _np_qint16 = np.dtype([(\"qint16\", np.int16, 1)])\n",
      "/opt/anaconda3/envs/myenv/lib/python3.7/site-packages/tensorboard/compat/tensorflow_stub/dtypes.py:544: FutureWarning: Passing (type, 1) or '1type' as a synonym of type is deprecated; in a future version of numpy, it will be understood as (type, (1,)) / '(1,)type'.\n",
      "  _np_quint16 = np.dtype([(\"quint16\", np.uint16, 1)])\n",
      "/opt/anaconda3/envs/myenv/lib/python3.7/site-packages/tensorboard/compat/tensorflow_stub/dtypes.py:545: FutureWarning: Passing (type, 1) or '1type' as a synonym of type is deprecated; in a future version of numpy, it will be understood as (type, (1,)) / '(1,)type'.\n",
      "  _np_qint32 = np.dtype([(\"qint32\", np.int32, 1)])\n",
      "/opt/anaconda3/envs/myenv/lib/python3.7/site-packages/tensorboard/compat/tensorflow_stub/dtypes.py:550: FutureWarning: Passing (type, 1) or '1type' as a synonym of type is deprecated; in a future version of numpy, it will be understood as (type, (1,)) / '(1,)type'.\n",
      "  np_resource = np.dtype([(\"resource\", np.ubyte, 1)])\n"
     ]
    }
   ],
   "source": [
    "from keras import models, layers\n",
    "from keras import Input\n",
    "from keras.models import Model, load_model\n",
    "from keras.preprocessing.image import ImageDataGenerator\n",
    "from keras import optimizers, initializers, regularizers, metrics\n",
    "from keras.callbacks import ModelCheckpoint, EarlyStopping\n",
    "from keras.layers import BatchNormalization, Conv2D, Activation, Dense, GlobalAveragePooling2D, MaxPooling2D, ZeroPadding2D, Add\n",
    " \n",
    "import os\n",
    "import matplotlib.pyplot as plt\n",
    "import numpy as np\n",
    "import math\n",
    " "
   ]
  },
  {
   "cell_type": "code",
   "execution_count": 2,
   "metadata": {},
   "outputs": [],
   "source": [
    "from keras.models import Sequential\n",
    "from keras.applications import ResNet50\n",
    "\n",
    "from keras.models import Model\n",
    "\n",
    "# clustering and dimension reduction\n",
    "from sklearn.cluster import KMeans\n",
    "\n",
    "import numpy as np \n",
    "import os\n",
    "import cv2\n",
    "import matplotlib.pyplot as plt\n",
    "\n",
    "import glob"
   ]
  },
  {
   "cell_type": "code",
   "execution_count": 3,
   "metadata": {},
   "outputs": [],
   "source": [
    "from keras.applications.resnet50 import ResNet50\n",
    "from keras.preprocessing import image\n",
    "from keras.applications.resnet50 import preprocess_input"
   ]
  },
  {
   "cell_type": "code",
   "execution_count": 4,
   "metadata": {},
   "outputs": [
    {
     "name": "stdout",
     "output_type": "stream",
     "text": [
      "WARNING:tensorflow:From /opt/anaconda3/envs/myenv/lib/python3.7/site-packages/keras/backend/tensorflow_backend.py:4070: The name tf.nn.max_pool is deprecated. Please use tf.nn.max_pool2d instead.\n",
      "\n"
     ]
    }
   ],
   "source": [
    "resnet_weights_path = '/Users/reejungkim/Documents/Git/YOLO/resnet50_weights_tf_dim_ordering_tf_kernels_notop.h5'\n",
    "\n",
    "my_new_model = Sequential()\n",
    "my_new_model.add(ResNet50(include_top=False, pooling='avg', weights=resnet_weights_path))\n",
    "\n",
    "# Say not to train first layer (ResNet) model. It is already trained\n",
    "my_new_model.layers[0].trainable = False"
   ]
  },
  {
   "cell_type": "code",
   "execution_count": 5,
   "metadata": {},
   "outputs": [],
   "source": [
    "def extract_vector(path):\n",
    "    resnet_feature_list = []\n",
    "\n",
    "    for im in os.listdir(path) : #glob.glob(path):\n",
    "        if im.endswith('png'):\n",
    "            im = cv2.imread(path+'/' +im)\n",
    "            #plt.imshow(im)\n",
    "            im = cv2.resize(im,(224,224))\n",
    "            img = preprocess_input(np.expand_dims(im.copy(), axis=0))\n",
    "            resnet_feature = my_new_model.predict(img)\n",
    "            resnet_feature_np = np.array(resnet_feature)\n",
    "            resnet_feature_list.append(resnet_feature_np.flatten())\n",
    "\n",
    "    return np.array(resnet_feature_list)"
   ]
  },
  {
   "cell_type": "code",
   "execution_count": 6,
   "metadata": {},
   "outputs": [],
   "source": [
    "folder_path =''"
   ]
  },
  {
   "cell_type": "code",
   "execution_count": 7,
   "metadata": {},
   "outputs": [
    {
     "name": "stdout",
     "output_type": "stream",
     "text": [
      "WARNING:tensorflow:From /opt/anaconda3/envs/myenv/lib/python3.7/site-packages/keras/backend/tensorflow_backend.py:422: The name tf.global_variables is deprecated. Please use tf.compat.v1.global_variables instead.\n",
      "\n"
     ]
    }
   ],
   "source": [
    "array = extract_vector(folder_path)"
   ]
  },
  {
   "cell_type": "code",
   "execution_count": 9,
   "metadata": {},
   "outputs": [
    {
     "name": "stdout",
     "output_type": "stream",
     "text": [
      "[5 6 6 6 6 3 7 3 3 8 5 1 3 7 5 8 5 5 1 9 8 1 5 7 2 8 3 4 4 7 4 3 2 9 0 7 1\n",
      " 1 6 9 7 6 1 7 5 8 5 4 4 4 1 4 2 4 1 9 4 2 8 3 9 7 9 5 9 7 6 5 3 9 1 4 7 1\n",
      " 1 3 4 6 8 8 9 5 1 5 7 8 5 2 6 6 5 2 6 9 4 0 1 0 2 4 5 4 0 9 0 6 6 6 7 3 7\n",
      " 1 7 0 7 5 2 6 6 4 5 8 4 2 0 9 2 5 4 5 5 7 0 6 5 7 0 3 4 5 4 5 2 5 5 2 0 4\n",
      " 5 4 6 1 4 9 6 4 1 0 9 2 5 6 6 0 1 0 1 1 4 9 3 7 1 4 5 9 5 6 9 2 2 7 0 7 1\n",
      " 8 6 7 1 3 1 3 3 8 7 0 5 3 2 8 5 8 8 9 7 1 1 2 5 5 6 2 9 6 9 6 1 7 6 9 2 0\n",
      " 7 1 7 0 6 7 5 9 9 0 9 8 2 6 5 6 0 3 5 0 4 0 9 1 1 9 9 1 2 7 0 9 5 9 9 7 4\n",
      " 7 0 8 7 5 3 0 3 5 3 4 5 4 6 2 7 5 4 5 7 9 1 5 1 5 0 1 6 4 2 7 3 5 0 1 6 1\n",
      " 9 0 7 5 6 4 6 7 4 4 9 6 4 7 1 7 9 2 4 5 6 2 8 6 8 3 3 8 3 4 7 1 5 9 5 5 9\n",
      " 9 4 8 0 5 0 3 5 5 9 6 3 9 6 7 4 9 6 7 1 5 6 3 9 9 4 3 5 1 6 4 2 5 9 9 4 9\n",
      " 1 5 1 1 9 2 0 4 7 5 6 1 3 5 3 2 4 3 5 5 5 1 9 4 7 5 7 5 7 4 9 4 1 2 0 7 9\n",
      " 3 2 4 0 0 4 3 3 2 9 9 4 0 3 9 0 4 9 9 9 2 6 4 2 9 9 6 1 7 3 9 9 4 1 3 9 6\n",
      " 2 3 6 5 9 0 3 5 5 6 1 4 4 7 8 5 1 6 9 9 0 6 0 4 8 0 4 5 6 9 0 5 1 9 0 9 4\n",
      " 1 5 3 9 5 1 6 7 4 0 7 6 6 3 7 6 3 4 2 1 5 6 6 9 3 4 2 9 7 0 7 9 7 1 5 9 1\n",
      " 7 3 7 6 9 5 2 6 3 1 4 2 2 2 5 7 2 0 9 9 7 0 7 9 0 8 1 7 4 0 8 9 4 4 6 5 9\n",
      " 6 4 2 0 5 7 5 3 9 1 9 1 0 7 4 7 6 0 8 2 5 9 5 7 7 5 8 2 5 8 3 4 6 5 2 4 0\n",
      " 3 4 4 1 4 4 5 5 6 7 2 7 5 5 7 4 5 5 4 5 7 9 2 3 0 0 1 2 1 0 9 7 6 4 3 5 7\n",
      " 2 7 8 1 9 4 7 4 2 5 1 3 9 2 6 6 7 9 9 4 7 1 5 9 9 5 6 1 9 9 0 4 6 7 9 4 1\n",
      " 2 2 5 5 5 5 5 0 8 7 2 5 9 5 5 7 5 4 0 6 0 1 7 8 5 7 0 5 9 9 0 9 0 8 5 7 7\n",
      " 9 3 3 6 9 9 1 2 0 9 7 3 0 8 4 6 2 1 8 0 6 6 0 9 4 2 9 9 1 6 5 6 5 1 1 5 9\n",
      " 1 1 9 1 6 5 9 1 2 5 5 3 7 0 4 1 5 3 3 5 9 5 5 1 3 3 9 5 4 8 0 9 5 7 7 4 0\n",
      " 5 6 1 2 5 0 7 0 9 5 5 8 1 1 5 7 5 1 7 5 5 7 6 6 9 9 6 2 8 1 9 9 4 5 5 2 0\n",
      " 3 5 2 4 9 9 6 6 6 2 9 8 5 6 0 0 1 8 9 9 5 9 0 6 2 6 9 8 5 5 5 2 6 8 4 5 6\n",
      " 6]\n"
     ]
    }
   ],
   "source": [
    "kmeans = KMeans(n_clusters=10, random_state=0).fit(array)\n",
    "print(kmeans.labels_)"
   ]
  },
  {
   "cell_type": "code",
   "execution_count": 11,
   "metadata": {},
   "outputs": [],
   "source": [
    "clusters = kmeans.fit_predict(array)"
   ]
  },
  {
   "cell_type": "code",
   "execution_count": 12,
   "metadata": {},
   "outputs": [
    {
     "data": {
      "text/plain": [
       "array([5, 6, 6, 6, 6, 3, 7, 3, 3, 8, 5, 1, 3, 7, 5, 8, 5, 5, 1, 9, 8, 1,\n",
       "       5, 7, 2, 8, 3, 4, 4, 7, 4, 3, 2, 9, 0, 7, 1, 1, 6, 9, 7, 6, 1, 7,\n",
       "       5, 8, 5, 4, 4, 4, 1, 4, 2, 4, 1, 9, 4, 2, 8, 3, 9, 7, 9, 5, 9, 7,\n",
       "       6, 5, 3, 9, 1, 4, 7, 1, 1, 3, 4, 6, 8, 8, 9, 5, 1, 5, 7, 8, 5, 2,\n",
       "       6, 6, 5, 2, 6, 9, 4, 0, 1, 0, 2, 4, 5, 4, 0, 9, 0, 6, 6, 6, 7, 3,\n",
       "       7, 1, 7, 0, 7, 5, 2, 6, 6, 4, 5, 8, 4, 2, 0, 9, 2, 5, 4, 5, 5, 7,\n",
       "       0, 6, 5, 7, 0, 3, 4, 5, 4, 5, 2, 5, 5, 2, 0, 4, 5, 4, 6, 1, 4, 9,\n",
       "       6, 4, 1, 0, 9, 2, 5, 6, 6, 0, 1, 0, 1, 1, 4, 9, 3, 7, 1, 4, 5, 9,\n",
       "       5, 6, 9, 2, 2, 7, 0, 7, 1, 8, 6, 7, 1, 3, 1, 3, 3, 8, 7, 0, 5, 3,\n",
       "       2, 8, 5, 8, 8, 9, 7, 1, 1, 2, 5, 5, 6, 2, 9, 6, 9, 6, 1, 7, 6, 9,\n",
       "       2, 0, 7, 1, 7, 0, 6, 7, 5, 9, 9, 0, 9, 8, 2, 6, 5, 6, 0, 3, 5, 0,\n",
       "       4, 0, 9, 1, 1, 9, 9, 1, 2, 7, 0, 9, 5, 9, 9, 7, 4, 7, 0, 8, 7, 5,\n",
       "       3, 0, 3, 5, 3, 4, 5, 4, 6, 2, 7, 5, 4, 5, 7, 9, 1, 5, 1, 5, 0, 1,\n",
       "       6, 4, 2, 7, 3, 5, 0, 1, 6, 1, 9, 0, 7, 5, 6, 4, 6, 7, 4, 4, 9, 6,\n",
       "       4, 7, 1, 7, 9, 2, 4, 5, 6, 2, 8, 6, 8, 3, 3, 8, 3, 4, 7, 1, 5, 9,\n",
       "       5, 5, 9, 9, 4, 8, 0, 5, 0, 3, 5, 5, 9, 6, 3, 9, 6, 7, 4, 9, 6, 7,\n",
       "       1, 5, 6, 3, 9, 9, 4, 3, 5, 1, 6, 4, 2, 5, 9, 9, 4, 9, 1, 5, 1, 1,\n",
       "       9, 2, 0, 4, 7, 5, 6, 1, 3, 5, 3, 2, 4, 3, 5, 5, 5, 1, 9, 4, 7, 5,\n",
       "       7, 5, 7, 4, 9, 4, 1, 2, 0, 7, 9, 3, 2, 4, 0, 0, 4, 3, 3, 2, 9, 9,\n",
       "       4, 0, 3, 9, 0, 4, 9, 9, 9, 2, 6, 4, 2, 9, 9, 6, 1, 7, 3, 9, 9, 4,\n",
       "       1, 3, 9, 6, 2, 3, 6, 5, 9, 0, 3, 5, 5, 6, 1, 4, 4, 7, 8, 5, 1, 6,\n",
       "       9, 9, 0, 6, 0, 4, 8, 0, 4, 5, 6, 9, 0, 5, 1, 9, 0, 9, 4, 1, 5, 3,\n",
       "       9, 5, 1, 6, 7, 4, 0, 7, 6, 6, 3, 7, 6, 3, 4, 2, 1, 5, 6, 6, 9, 3,\n",
       "       4, 2, 9, 7, 0, 7, 9, 7, 1, 5, 9, 1, 7, 3, 7, 6, 9, 5, 2, 6, 3, 1,\n",
       "       4, 2, 2, 2, 5, 7, 2, 0, 9, 9, 7, 0, 7, 9, 0, 8, 1, 7, 4, 0, 8, 9,\n",
       "       4, 4, 6, 5, 9, 6, 4, 2, 0, 5, 7, 5, 3, 9, 1, 9, 1, 0, 7, 4, 7, 6,\n",
       "       0, 8, 2, 5, 9, 5, 7, 7, 5, 8, 2, 5, 8, 3, 4, 6, 5, 2, 4, 0, 3, 4,\n",
       "       4, 1, 4, 4, 5, 5, 6, 7, 2, 7, 5, 5, 7, 4, 5, 5, 4, 5, 7, 9, 2, 3,\n",
       "       0, 0, 1, 2, 1, 0, 9, 7, 6, 4, 3, 5, 7, 2, 7, 8, 1, 9, 4, 7, 4, 2,\n",
       "       5, 1, 3, 9, 2, 6, 6, 7, 9, 9, 4, 7, 1, 5, 9, 9, 5, 6, 1, 9, 9, 0,\n",
       "       4, 6, 7, 9, 4, 1, 2, 2, 5, 5, 5, 5, 5, 0, 8, 7, 2, 5, 9, 5, 5, 7,\n",
       "       5, 4, 0, 6, 0, 1, 7, 8, 5, 7, 0, 5, 9, 9, 0, 9, 0, 8, 5, 7, 7, 9,\n",
       "       3, 3, 6, 9, 9, 1, 2, 0, 9, 7, 3, 0, 8, 4, 6, 2, 1, 8, 0, 6, 6, 0,\n",
       "       9, 4, 2, 9, 9, 1, 6, 5, 6, 5, 1, 1, 5, 9, 1, 1, 9, 1, 6, 5, 9, 1,\n",
       "       2, 5, 5, 3, 7, 0, 4, 1, 5, 3, 3, 5, 9, 5, 5, 1, 3, 3, 9, 5, 4, 8,\n",
       "       0, 9, 5, 7, 7, 4, 0, 5, 6, 1, 2, 5, 0, 7, 0, 9, 5, 5, 8, 1, 1, 5,\n",
       "       7, 5, 1, 7, 5, 5, 7, 6, 6, 9, 9, 6, 2, 8, 1, 9, 9, 4, 5, 5, 2, 0,\n",
       "       3, 5, 2, 4, 9, 9, 6, 6, 6, 2, 9, 8, 5, 6, 0, 0, 1, 8, 9, 9, 5, 9,\n",
       "       0, 6, 2, 6, 9, 8, 5, 5, 5, 2, 6, 8, 4, 5, 6, 6], dtype=int32)"
      ]
     },
     "execution_count": 12,
     "metadata": {},
     "output_type": "execute_result"
    }
   ],
   "source": [
    "clusters"
   ]
  },
  {
   "cell_type": "code",
   "execution_count": null,
   "metadata": {},
   "outputs": [],
   "source": []
  }
 ],
 "metadata": {
  "interpreter": {
   "hash": "e47b1a34c05c1e3b83a62d7885c9d1b5ef8a0522d3be0182d0a008ec409b2b3d"
  },
  "kernelspec": {
   "display_name": "Python 3.7.13 ('myenv')",
   "language": "python",
   "name": "python3"
  },
  "language_info": {
   "codemirror_mode": {
    "name": "ipython",
    "version": 3
   },
   "file_extension": ".py",
   "mimetype": "text/x-python",
   "name": "python",
   "nbconvert_exporter": "python",
   "pygments_lexer": "ipython3",
   "version": "3.7.13"
  },
  "orig_nbformat": 4
 },
 "nbformat": 4,
 "nbformat_minor": 2
}
